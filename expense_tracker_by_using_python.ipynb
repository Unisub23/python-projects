{
  "cells": [
    {
      "cell_type": "markdown",
      "metadata": {
        "id": "view-in-github",
        "colab_type": "text"
      },
      "source": [
        "<a href=\"https://colab.research.google.com/github/Unisub23/python-projects/blob/main/expense_tracker_by_using_python.ipynb\" target=\"_parent\"><img src=\"https://colab.research.google.com/assets/colab-badge.svg\" alt=\"Open In Colab\"/></a>"
      ]
    },
    {
      "cell_type": "code",
      "source": [
        "from datetime import datetime\n",
        "from collections import defaultdict\n",
        "import matplotlib.pyplot as plt\n",
        "\n",
        "# Define your categories with emojis\n",
        "expense_categories = [\n",
        "    \"🍕 Food\",\n",
        "    \"✈️ Travel\",\n",
        "    \"🎉 Fun\",\n",
        "    \"📚 Study\",\n",
        "    \"💼 Work\",\n",
        "    \"📦 Miscellaneous\",\n",
        "    \"💰 Saving\"\n",
        "]\n",
        "\n",
        "def get_user_expense():\n",
        "    print(\"\\n📝 Enter your expense details:\")\n",
        "    name = input(\"Expense name: \")\n",
        "    amount = float(input(\"Amount (₹): \"))\n",
        "\n",
        "    print(\"\\n📂 Choose a category:\")\n",
        "    for i, category in enumerate(expense_categories):\n",
        "        print(f\"{i+1}. {category}\")\n",
        "\n",
        "    category_index = int(input(\"Enter category number: \")) - 1\n",
        "    category = expense_categories[category_index]\n",
        "\n",
        "    date = datetime.now().strftime(\"%Y-%m-%d\")\n",
        "\n",
        "    return name, amount, category, date\n",
        "\n",
        "def save_expense(name, amount, category, date):\n",
        "    with open(\"expenses.csv\", \"a\") as file:\n",
        "        file.write(f\"{date},{name},{amount},{category}\\n\")\n",
        "    print(f\"✅ Saved: {name} - ₹{amount} under {category} on {date}\")\n",
        "\n",
        "def summarize_expenses():\n",
        "    totals = defaultdict(float)\n",
        "\n",
        "    try:\n",
        "        with open(\"expenses.csv\", \"r\") as file:\n",
        "            for line in file:\n",
        "                date, name, amount, category = line.strip().split(\",\")\n",
        "                totals[category] += float(amount)\n",
        "\n",
        "        print(\"\\n📊 Expense Summary by Category:\")\n",
        "        print(\"-\" * 40)\n",
        "        print(f\"{'Category':<20} | {'Total (₹)':>10}\")\n",
        "        print(\"-\" * 40)\n",
        "        for category in expense_categories:\n",
        "            print(f\"{category:<20} | ₹{totals[category]:>10.2f}\")\n",
        "        print(\"-\" * 40)\n",
        "\n",
        "    except FileNotFoundError:\n",
        "        print(\"⚠️ No expenses recorded yet.\")\n",
        "\n",
        "def plot_expense_graph():\n",
        "    totals = defaultdict(float)\n",
        "\n",
        "    try:\n",
        "        with open(\"expenses.csv\", \"r\") as file:\n",
        "            for line in file:\n",
        "                date, name, amount, category = line.strip().split(\",\")\n",
        "                totals[category] += float(amount)\n",
        "\n",
        "        categories = list(totals.keys())\n",
        "        amounts = [totals[cat] for cat in categories]\n",
        "\n",
        "        plt.figure(figsize=(10, 6))\n",
        "        plt.bar(categories, amounts, color=\"skyblue\")\n",
        "        plt.title(\"Total Expenses by Category\")\n",
        "        plt.xlabel(\"Category\")\n",
        "        plt.ylabel(\"Amount (₹)\")\n",
        "        plt.xticks(rotation=45)\n",
        "        plt.tight_layout()\n",
        "        plt.show()\n",
        "\n",
        "    except FileNotFoundError:\n",
        "        print(\"⚠️ No expenses recorded yet.\")\n",
        "\n",
        "def main():\n",
        "    print(\"💸 Welcome to Expense Tracker 💸\")\n",
        "    name, amount, category, date = get_user_expense()\n",
        "    save_expense(name, amount, category, date)\n",
        "    summarize_expenses()\n",
        "    plot_expense_graph()\n",
        "\n",
        "if __name__ == \"__main__\":\n",
        "    main()\n"
      ],
      "metadata": {
        "colab": {
          "base_uri": "https://localhost:8080/"
        },
        "id": "MT5Slgu4t8QA",
        "outputId": "297ed119-34d6-48e6-ee19-d3c8a432365f"
      },
      "execution_count": null,
      "outputs": [
        {
          "metadata": {
            "tags": null
          },
          "name": "stdout",
          "output_type": "stream",
          "text": [
            "💸 Welcome to Expense Tracker 💸\n",
            "\n",
            "📝 Enter your expense details:\n"
          ]
        }
      ]
    }
  ],
  "metadata": {
    "colab": {
      "toc_visible": true,
      "provenance": [],
      "include_colab_link": true
    },
    "kernelspec": {
      "display_name": "Python 3",
      "name": "python3"
    }
  },
  "nbformat": 4,
  "nbformat_minor": 0
}